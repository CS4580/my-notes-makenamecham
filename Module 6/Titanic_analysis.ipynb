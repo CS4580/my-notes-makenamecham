{
 "cells": [
  {
   "cell_type": "markdown",
   "metadata": {},
   "source": [
    "## Chi-Squared Analysis\n",
    "\n",
    "### First Question: Did more women and children survive compared to men?\n",
    "\n",
    "#### Dataset from Canvas (Titanic_Passengers.csv)"
   ]
  },
  {
   "cell_type": "code",
   "execution_count": 7,
   "metadata": {},
   "outputs": [
    {
     "data": {
      "text/html": [
       "<div>\n",
       "<style scoped>\n",
       "    .dataframe tbody tr th:only-of-type {\n",
       "        vertical-align: middle;\n",
       "    }\n",
       "\n",
       "    .dataframe tbody tr th {\n",
       "        vertical-align: top;\n",
       "    }\n",
       "\n",
       "    .dataframe thead th {\n",
       "        text-align: right;\n",
       "    }\n",
       "</style>\n",
       "<table border=\"1\" class=\"dataframe\">\n",
       "  <thead>\n",
       "    <tr style=\"text-align: right;\">\n",
       "      <th></th>\n",
       "      <th>Name</th>\n",
       "      <th>Born</th>\n",
       "      <th>Died</th>\n",
       "      <th>Age</th>\n",
       "      <th>Gender</th>\n",
       "      <th>Passenger_Class</th>\n",
       "      <th>Lived_Died</th>\n",
       "      <th>Fare</th>\n",
       "      <th>Fare_decimal</th>\n",
       "    </tr>\n",
       "  </thead>\n",
       "  <tbody>\n",
       "    <tr>\n",
       "      <th>0</th>\n",
       "      <td>DEAN, Miss Elizabeth Gladys Millvina</td>\n",
       "      <td>1912.0</td>\n",
       "      <td>2009.0</td>\n",
       "      <td>0.166667</td>\n",
       "      <td>Female</td>\n",
       "      <td>3</td>\n",
       "      <td>lived</td>\n",
       "      <td>£20             11s             6d</td>\n",
       "      <td>20.58</td>\n",
       "    </tr>\n",
       "    <tr>\n",
       "      <th>1</th>\n",
       "      <td>DANBOM, Master Gilbert Sigvard Emanuel</td>\n",
       "      <td>1911.0</td>\n",
       "      <td>1912.0</td>\n",
       "      <td>0.333333</td>\n",
       "      <td>Male</td>\n",
       "      <td>3</td>\n",
       "      <td>died</td>\n",
       "      <td>£14             8s</td>\n",
       "      <td>14.40</td>\n",
       "    </tr>\n",
       "    <tr>\n",
       "      <th>2</th>\n",
       "      <td>TANNūS, Master As'ad</td>\n",
       "      <td>1911.0</td>\n",
       "      <td>1931.0</td>\n",
       "      <td>0.416667</td>\n",
       "      <td>Male</td>\n",
       "      <td>3</td>\n",
       "      <td>lived</td>\n",
       "      <td>£8             10s             4d</td>\n",
       "      <td>8.52</td>\n",
       "    </tr>\n",
       "    <tr>\n",
       "      <th>3</th>\n",
       "      <td>PEACOCK, Master Albert Edward</td>\n",
       "      <td>1911.0</td>\n",
       "      <td>1912.0</td>\n",
       "      <td>0.583333</td>\n",
       "      <td>Male</td>\n",
       "      <td>3</td>\n",
       "      <td>died</td>\n",
       "      <td>£13             15s             6d</td>\n",
       "      <td>13.78</td>\n",
       "    </tr>\n",
       "    <tr>\n",
       "      <th>4</th>\n",
       "      <td>RICHARDS, Master Sibley George</td>\n",
       "      <td>1911.0</td>\n",
       "      <td>1987.0</td>\n",
       "      <td>0.750000</td>\n",
       "      <td>Male</td>\n",
       "      <td>2</td>\n",
       "      <td>lived</td>\n",
       "      <td>£18             15s</td>\n",
       "      <td>18.75</td>\n",
       "    </tr>\n",
       "  </tbody>\n",
       "</table>\n",
       "</div>"
      ],
      "text/plain": [
       "                                     Name    Born    Died       Age  Gender  \\\n",
       "0    DEAN, Miss Elizabeth Gladys Millvina  1912.0  2009.0  0.166667  Female   \n",
       "1  DANBOM, Master Gilbert Sigvard Emanuel  1911.0  1912.0  0.333333    Male   \n",
       "2                    TANNūS, Master As'ad  1911.0  1931.0  0.416667    Male   \n",
       "3           PEACOCK, Master Albert Edward  1911.0  1912.0  0.583333    Male   \n",
       "4          RICHARDS, Master Sibley George  1911.0  1987.0  0.750000    Male   \n",
       "\n",
       "   Passenger_Class Lived_Died                                Fare  \\\n",
       "0                3      lived  £20             11s             6d   \n",
       "1                3       died                  £14             8s   \n",
       "2                3      lived   £8             10s             4d   \n",
       "3                3       died  £13             15s             6d   \n",
       "4                2      lived                 £18             15s   \n",
       "\n",
       "   Fare_decimal  \n",
       "0         20.58  \n",
       "1         14.40  \n",
       "2          8.52  \n",
       "3         13.78  \n",
       "4         18.75  "
      ]
     },
     "execution_count": 7,
     "metadata": {},
     "output_type": "execute_result"
    }
   ],
   "source": [
    "import pandas as pd\n",
    "\n",
    "passenger_df = pd.read_csv('../data/Titanic_Passengers.csv')\n",
    "\n",
    "passenger_df.head()"
   ]
  },
  {
   "cell_type": "code",
   "execution_count": 8,
   "metadata": {},
   "outputs": [
    {
     "data": {
      "text/html": [
       "<div>\n",
       "<style scoped>\n",
       "    .dataframe tbody tr th:only-of-type {\n",
       "        vertical-align: middle;\n",
       "    }\n",
       "\n",
       "    .dataframe tbody tr th {\n",
       "        vertical-align: top;\n",
       "    }\n",
       "\n",
       "    .dataframe thead th {\n",
       "        text-align: right;\n",
       "    }\n",
       "</style>\n",
       "<table border=\"1\" class=\"dataframe\">\n",
       "  <thead>\n",
       "    <tr style=\"text-align: right;\">\n",
       "      <th></th>\n",
       "      <th>Name</th>\n",
       "      <th>Born</th>\n",
       "      <th>Died</th>\n",
       "      <th>Age</th>\n",
       "      <th>Gender</th>\n",
       "      <th>Passenger_Class</th>\n",
       "      <th>Lived_Died</th>\n",
       "      <th>Fare</th>\n",
       "      <th>Fare_decimal</th>\n",
       "    </tr>\n",
       "  </thead>\n",
       "  <tbody>\n",
       "    <tr>\n",
       "      <th>1347</th>\n",
       "      <td>FLETCHER, Miss N.</td>\n",
       "      <td>NaN</td>\n",
       "      <td>NaN</td>\n",
       "      <td>NaN</td>\n",
       "      <td>Female</td>\n",
       "      <td>1</td>\n",
       "      <td>died</td>\n",
       "      <td>£1             10s</td>\n",
       "      <td>1.5</td>\n",
       "    </tr>\n",
       "    <tr>\n",
       "      <th>1348</th>\n",
       "      <td>STEVENS, Mr George</td>\n",
       "      <td>NaN</td>\n",
       "      <td>NaN</td>\n",
       "      <td>NaN</td>\n",
       "      <td>Male</td>\n",
       "      <td>1</td>\n",
       "      <td>died</td>\n",
       "      <td>£1             10s</td>\n",
       "      <td>1.5</td>\n",
       "    </tr>\n",
       "    <tr>\n",
       "      <th>1349</th>\n",
       "      <td>CARRUTHERS, Mr Francis</td>\n",
       "      <td>NaN</td>\n",
       "      <td>NaN</td>\n",
       "      <td>NaN</td>\n",
       "      <td>Male</td>\n",
       "      <td>1</td>\n",
       "      <td>died</td>\n",
       "      <td>NaN</td>\n",
       "      <td>NaN</td>\n",
       "    </tr>\n",
       "    <tr>\n",
       "      <th>1350</th>\n",
       "      <td>COLLIS, Mr</td>\n",
       "      <td>NaN</td>\n",
       "      <td>NaN</td>\n",
       "      <td>NaN</td>\n",
       "      <td>Male</td>\n",
       "      <td>1</td>\n",
       "      <td>died</td>\n",
       "      <td>NaN</td>\n",
       "      <td>NaN</td>\n",
       "    </tr>\n",
       "    <tr>\n",
       "      <th>1351</th>\n",
       "      <td>WILDING, Mr Edward</td>\n",
       "      <td>NaN</td>\n",
       "      <td>NaN</td>\n",
       "      <td>NaN</td>\n",
       "      <td>Male</td>\n",
       "      <td>1</td>\n",
       "      <td>died</td>\n",
       "      <td>NaN</td>\n",
       "      <td>NaN</td>\n",
       "    </tr>\n",
       "  </tbody>\n",
       "</table>\n",
       "</div>"
      ],
      "text/plain": [
       "                        Name  Born  Died  Age  Gender  Passenger_Class  \\\n",
       "1347       FLETCHER, Miss N.   NaN   NaN  NaN  Female                1   \n",
       "1348      STEVENS, Mr George   NaN   NaN  NaN    Male                1   \n",
       "1349  CARRUTHERS, Mr Francis   NaN   NaN  NaN    Male                1   \n",
       "1350              COLLIS, Mr   NaN   NaN  NaN    Male                1   \n",
       "1351      WILDING, Mr Edward   NaN   NaN  NaN    Male                1   \n",
       "\n",
       "     Lived_Died                Fare  Fare_decimal  \n",
       "1347       died  £1             10s           1.5  \n",
       "1348       died  £1             10s           1.5  \n",
       "1349       died                 NaN           NaN  \n",
       "1350       died                 NaN           NaN  \n",
       "1351       died                 NaN           NaN  "
      ]
     },
     "execution_count": 8,
     "metadata": {},
     "output_type": "execute_result"
    }
   ],
   "source": [
    "passenger_df.tail()"
   ]
  },
  {
   "cell_type": "markdown",
   "metadata": {},
   "source": [
    "## What kind of data is the `dependent` variable?\n",
    "    \n",
    "- What kind of data is the `gender` (indep. variable)?\n",
    "    - Nominal\n",
    "    \n",
    "Two Types:\n",
    "    - `Ordinal` data. Data that can be ordered.\n",
    "    \n",
    "    - `Categorical/nominal`. Data that can not be order."
   ]
  },
  {
   "cell_type": "code",
   "execution_count": 9,
   "metadata": {},
   "outputs": [
    {
     "name": "stdout",
     "output_type": "stream",
     "text": [
      "Gender      Female  Male   All\n",
      "Lived_Died                    \n",
      "died           143   709   852\n",
      "lived          339   161   500\n",
      "All            482   870  1352\n"
     ]
    }
   ],
   "source": [
    "# margins = True will show the summary\n",
    "contingency_table = pd.crosstab(passenger_df['Lived_Died'], passenger_df['Gender'], margins=True)\n",
    "print(contingency_table)"
   ]
  },
  {
   "cell_type": "code",
   "execution_count": 10,
   "metadata": {},
   "outputs": [
    {
     "data": {
      "text/plain": [
       "Text(0, 0.5, 'Count')"
      ]
     },
     "execution_count": 10,
     "metadata": {},
     "output_type": "execute_result"
    },
    {
     "data": {
      "image/png": "[encoded data removed]",
      "text/plain": [
       "<Figure size 640x480 with 1 Axes>"
      ]
     },
     "metadata": {},
     "output_type": "display_data"
    }
   ],
   "source": [
    "# Task: Create a stacked bar chart showing the number of passengers by gender that lived or died\n",
    "import matplotlib.pyplot as plt\n",
    "\n",
    "contingency_table = pd.crosstab(passenger_df['Gender'], passenger_df['Lived_Died'])\n",
    "contingency_table.plot(kind='bar', stacked=True)\n",
    "plt.ylabel('Count')\n"
   ]
  },
  {
   "cell_type": "code",
   "execution_count": 11,
   "metadata": {},
   "outputs": [
    {
     "name": "stdout",
     "output_type": "stream",
     "text": [
      "(355.24355436145913, 3.0570688722545846e-79, 1)\n"
     ]
    }
   ],
   "source": [
    "from scipy import stats # for chi2_contigency\n",
    "\n",
    "print(stats.chi2_contingency(contingency_table)[0:3])\n",
    "\n",
    "# You get 3 values back:\n",
    "# 1) Chi-Squared: The higher the chi-squared statistic, the less likelihood that the observed values were the result of pure chance\n",
    "# 2) Target p-value\n",
    "# 3) Degrees of Freedom: 1 degree of freedom. (r rows -1) * (r columns -1) = 1"
   ]
  },
  {
   "cell_type": "markdown",
   "metadata": {},
   "source": [
    "## Chi-Square Example: Was Age relevant?"
   ]
  },
  {
   "cell_type": "code",
   "execution_count": 12,
   "metadata": {},
   "outputs": [
    {
     "name": "stdout",
     "output_type": "stream",
     "text": [
      "Lived_Died  died  lived\n",
      "Age_bins               \n",
      "(0, 10]       46     54\n",
      "(10, 20]     156     71\n",
      "(20, 30]     286    166\n",
      "(30, 40]     158    107\n",
      "(40, 50]     111     64\n",
      "(50, 60]      40     30\n",
      "(60, 70]      27      7\n",
      "(70, 80]       5      0\n",
      "Chi2-Stats (24.465546982751874, 0.0009433264132943263, 7)\n"
     ]
    }
   ],
   "source": [
    "# Check the age column. It is already fixed for the age at the time of incident.\n",
    "\n",
    "# What about null values?\n",
    "\n",
    "# Create the bins\n",
    "passenger_df['Age_bins'] = pd.cut(x=passenger_df['Age'], bins=[0, 10, 20, 30, 40, 50, 60, 70, 80])\n",
    "\n",
    "contingency_table = pd.crosstab(passenger_df['Age_bins'], passenger_df['Lived_Died'])\n",
    "print(contingency_table)\n",
    "print(f'Chi2-Stats {stats.chi2_contingency(contingency_table)[0:3]}')\n"
   ]
  },
  {
   "cell_type": "code",
   "execution_count": 13,
   "metadata": {},
   "outputs": [
    {
     "data": {
      "text/plain": [
       "<Axes: ylabel='Frequency'>"
      ]
     },
     "execution_count": 13,
     "metadata": {},
     "output_type": "execute_result"
    },
    {
     "data": {
      "image/png": "[encoded data removed]",
      "text/plain": [
       "<Figure size 640x480 with 1 Axes>"
      ]
     },
     "metadata": {},
     "output_type": "display_data"
    }
   ],
   "source": [
    "contingency_table = pd.crosstab(passenger_df['Age_bins'], passenger_df['Lived_Died'])\n",
    "contingency_table.plot(kind='hist', stacked = True, rwidth=0.7)\n"
   ]
  },
  {
   "cell_type": "code",
   "execution_count": 14,
   "metadata": {},
   "outputs": [
    {
     "data": {
      "text/plain": [
       "<Axes: ylabel='Frequency'>"
      ]
     },
     "execution_count": 14,
     "metadata": {},
     "output_type": "execute_result"
    },
    {
     "data": {
      "image/png": "[encoded data removed]",
      "text/plain": [
       "<Figure size 640x480 with 1 Axes>"
      ]
     },
     "metadata": {},
     "output_type": "display_data"
    }
   ],
   "source": [
    "passenger_df.pivot(columns='Lived_Died')['Age'].plot(kind='hist', stacked=True, rwidth=0.7)"
   ]
  },
  {
   "cell_type": "markdown",
   "metadata": {},
   "source": [
    "## Chi-Square Example "
   ]
  },
  {
   "cell_type": "code",
   "execution_count": 15,
   "metadata": {},
   "outputs": [
    {
     "name": "stdout",
     "output_type": "stream",
     "text": [
      "Chi2-Stats (24.465546982751874, 0.0009433264132943263, 7)\n"
     ]
    }
   ],
   "source": [
    "# Create a heatmap\n",
    "#Check the age columns, it is already fixed for the age of the time of incident?\n",
    "\n",
    "# What about Null values?\n",
    "\n",
    "# Create Bins\n",
    "# passenger_df['Age_bins'] = pd.cut(x=passenger_df['Age'], bins=[0, 10, 20, 30, 40, 50, 60, 70, 80])\n",
    "passenger_df['Age_bins'] = pd.cut(x=passenger_df['Age'], bins=range(0, 90, 10))\n",
    "\n",
    "\n",
    "contingency_table = pd.crosstab(passenger_df['Age_bins'], passenger_df['Lived_Died'])\n",
    "\n",
    "print(f'Chi2-Stats {stats.chi2_contingency(contingency_table)[0:3]}')\n",
    "\n",
    "\n",
    "# Use a pivot table "
   ]
  },
  {
   "cell_type": "code",
   "execution_count": 17,
   "metadata": {},
   "outputs": [
    {
     "name": "stderr",
     "output_type": "stream",
     "text": [
      "C:\\Users\\mmech\\AppData\\Local\\Temp\\ipykernel_20816\\2348227581.py:1: FutureWarning: The default of observed=False is deprecated and will be changed to True in a future version of pandas. Pass observed=False to retain current behavior or observed=True to adopt the future default and silence this warning.\n",
      "  passenger_df.groupby(['Age_bins', 'Lived_Died']).size().unstack().plot(kind='bar', stacked=False)\n"
     ]
    },
    {
     "data": {
      "text/plain": [
       "Text(0.5, 1.0, 'Histogram of Age Ranges')"
      ]
     },
     "execution_count": 17,
     "metadata": {},
     "output_type": "execute_result"
    },
    {
     "data": {
      "image/png": "[encoded data removed]",
      "text/plain": [
       "<Figure size 640x480 with 1 Axes>"
      ]
     },
     "metadata": {},
     "output_type": "display_data"
    }
   ],
   "source": [
    "passenger_df.groupby(['Age_bins', 'Lived_Died']).size().unstack().plot(kind='bar', stacked=False)\n",
    "plt.ylabel('Count')\n",
    "plt.xlabel('Age Ranges')\n",
    "plt.title('Histogram of Age Ranges')"
   ]
  },
  {
   "cell_type": "code",
   "execution_count": 19,
   "metadata": {},
   "outputs": [
    {
     "name": "stderr",
     "output_type": "stream",
     "text": [
      "C:\\Users\\mmech\\AppData\\Local\\Temp\\ipykernel_20816\\173141088.py:20: FutureWarning: The default value of observed=False is deprecated and will change to observed=True in a future version of pandas. Specify observed=False to silence this warning and retain the current behavior\n",
      "  pivot_table = pd.pivot_table(passenger_df, values='Lived_Died_int', index=['Gender'], columns=['Age_bins'])\n",
      "C:\\Users\\mmech\\AppData\\Local\\Temp\\ipykernel_20816\\173141088.py:21: FutureWarning: DataFrame.applymap has been deprecated. Use DataFrame.map instead.\n",
      "  pivot_table.applymap(lambda x: 1-x) # invert values in heatmap\n"
     ]
    },
    {
     "data": {
      "text/plain": [
       "(array([0.5, 1.5, 2.5, 3.5, 4.5, 5.5, 6.5, 7.5]),\n",
       " [Text(0.5, 0, '0-9'),\n",
       "  Text(1.5, 0, '10-19'),\n",
       "  Text(2.5, 0, '20-29'),\n",
       "  Text(3.5, 0, '30-39'),\n",
       "  Text(4.5, 0, '40-49'),\n",
       "  Text(5.5, 0, '50-59'),\n",
       "  Text(6.5, 0, '60-69'),\n",
       "  Text(7.5, 0, '70-79')])"
      ]
     },
     "execution_count": 19,
     "metadata": {},
     "output_type": "execute_result"
    },
    {
     "data": {
      "image/png": "[encoded data removed]",
      "text/plain": [
       "<Figure size 1200x500 with 2 Axes>"
      ]
     },
     "metadata": {},
     "output_type": "display_data"
    }
   ],
   "source": [
    "import pandas as pd\n",
    "import seaborn as sns\n",
    "import matplotlib.pyplot as plot\n",
    "%matplotlib inline\n",
    "from sklearn import preprocessing\n",
    "\n",
    "# Load data\n",
    "passenger_df = pd.read_csv('../data/Titanic_Passengers.csv')\n",
    "\n",
    "# Drop columns you do not need\n",
    "passenger_df.drop(['Name', 'Born', 'Died', 'Fare', 'Fare_decimal', 'Passenger_Class'], axis=1, inplace=True)\n",
    "passenger_df.dropna(inplace=True) # Drop null values\n",
    "\n",
    "# Encode the categorical data\n",
    "le = preprocessing.LabelEncoder()\n",
    "passenger_df['Lived_Died_int'] = le.fit_transform(passenger_df['Lived_Died'])\n",
    "\n",
    "passenger_df['Age_bins'] = pd.cut(x=passenger_df['Age'], bins=range(0, 90, 10))\n",
    "\n",
    "pivot_table = pd.pivot_table(passenger_df, values='Lived_Died_int', index=['Gender'], columns=['Age_bins'])\n",
    "pivot_table.applymap(lambda x: 1-x) # invert values in heatmap\n",
    "# Create Heatmap\n",
    "plt.figure(figsize=(12,5))\n",
    "x_axis_labels = ['0-9', '10-19', '20-29', '30-39', '40-49', '50-59', '60-69', '70-79']\n",
    "sns.heatmap(pivot_table, annot=True, yticklabels=['Female', 'Male'], xticklabels=x_axis_labels, fmt='.2f', cmap='rocket')\n",
    "plt.title('Heat Map Comparing Age and Gender to Survival on the Titanic')\n",
    "plt.xticks(rotation=90)"
   ]
  },
  {
   "cell_type": "markdown",
   "metadata": {},
   "source": [
    "## TASK: Did the Titanic Passenger Class Affect Survivorship?\n",
    "\n",
    "In this case, the data is `ordinal` because we can order the categories from first to third."
   ]
  },
  {
   "cell_type": "code",
   "execution_count": 22,
   "metadata": {},
   "outputs": [
    {
     "data": {
      "text/html": [
       "<div>\n",
       "<style scoped>\n",
       "    .dataframe tbody tr th:only-of-type {\n",
       "        vertical-align: middle;\n",
       "    }\n",
       "\n",
       "    .dataframe tbody tr th {\n",
       "        vertical-align: top;\n",
       "    }\n",
       "\n",
       "    .dataframe thead th {\n",
       "        text-align: right;\n",
       "    }\n",
       "</style>\n",
       "<table border=\"1\" class=\"dataframe\">\n",
       "  <thead>\n",
       "    <tr style=\"text-align: right;\">\n",
       "      <th></th>\n",
       "      <th>Name</th>\n",
       "      <th>Born</th>\n",
       "      <th>Died</th>\n",
       "      <th>Age</th>\n",
       "      <th>Gender</th>\n",
       "      <th>Passenger_Class</th>\n",
       "      <th>Lived_Died</th>\n",
       "      <th>Fare</th>\n",
       "      <th>Fare_decimal</th>\n",
       "    </tr>\n",
       "  </thead>\n",
       "  <tbody>\n",
       "    <tr>\n",
       "      <th>0</th>\n",
       "      <td>DEAN, Miss Elizabeth Gladys Millvina</td>\n",
       "      <td>1912.0</td>\n",
       "      <td>2009.0</td>\n",
       "      <td>0.166667</td>\n",
       "      <td>Female</td>\n",
       "      <td>3</td>\n",
       "      <td>lived</td>\n",
       "      <td>£20             11s             6d</td>\n",
       "      <td>20.58</td>\n",
       "    </tr>\n",
       "    <tr>\n",
       "      <th>1</th>\n",
       "      <td>DANBOM, Master Gilbert Sigvard Emanuel</td>\n",
       "      <td>1911.0</td>\n",
       "      <td>1912.0</td>\n",
       "      <td>0.333333</td>\n",
       "      <td>Male</td>\n",
       "      <td>3</td>\n",
       "      <td>died</td>\n",
       "      <td>£14             8s</td>\n",
       "      <td>14.40</td>\n",
       "    </tr>\n",
       "    <tr>\n",
       "      <th>2</th>\n",
       "      <td>TANNūS, Master As'ad</td>\n",
       "      <td>1911.0</td>\n",
       "      <td>1931.0</td>\n",
       "      <td>0.416667</td>\n",
       "      <td>Male</td>\n",
       "      <td>3</td>\n",
       "      <td>lived</td>\n",
       "      <td>£8             10s             4d</td>\n",
       "      <td>8.52</td>\n",
       "    </tr>\n",
       "    <tr>\n",
       "      <th>3</th>\n",
       "      <td>PEACOCK, Master Albert Edward</td>\n",
       "      <td>1911.0</td>\n",
       "      <td>1912.0</td>\n",
       "      <td>0.583333</td>\n",
       "      <td>Male</td>\n",
       "      <td>3</td>\n",
       "      <td>died</td>\n",
       "      <td>£13             15s             6d</td>\n",
       "      <td>13.78</td>\n",
       "    </tr>\n",
       "    <tr>\n",
       "      <th>4</th>\n",
       "      <td>RICHARDS, Master Sibley George</td>\n",
       "      <td>1911.0</td>\n",
       "      <td>1987.0</td>\n",
       "      <td>0.750000</td>\n",
       "      <td>Male</td>\n",
       "      <td>2</td>\n",
       "      <td>lived</td>\n",
       "      <td>£18             15s</td>\n",
       "      <td>18.75</td>\n",
       "    </tr>\n",
       "  </tbody>\n",
       "</table>\n",
       "</div>"
      ],
      "text/plain": [
       "                                     Name    Born    Died       Age  Gender  \\\n",
       "0    DEAN, Miss Elizabeth Gladys Millvina  1912.0  2009.0  0.166667  Female   \n",
       "1  DANBOM, Master Gilbert Sigvard Emanuel  1911.0  1912.0  0.333333    Male   \n",
       "2                    TANNūS, Master As'ad  1911.0  1931.0  0.416667    Male   \n",
       "3           PEACOCK, Master Albert Edward  1911.0  1912.0  0.583333    Male   \n",
       "4          RICHARDS, Master Sibley George  1911.0  1987.0  0.750000    Male   \n",
       "\n",
       "   Passenger_Class Lived_Died                                Fare  \\\n",
       "0                3      lived  £20             11s             6d   \n",
       "1                3       died                  £14             8s   \n",
       "2                3      lived   £8             10s             4d   \n",
       "3                3       died  £13             15s             6d   \n",
       "4                2      lived                 £18             15s   \n",
       "\n",
       "   Fare_decimal  \n",
       "0         20.58  \n",
       "1         14.40  \n",
       "2          8.52  \n",
       "3         13.78  \n",
       "4         18.75  "
      ]
     },
     "execution_count": 22,
     "metadata": {},
     "output_type": "execute_result"
    }
   ],
   "source": [
    "import pandas as pd\n",
    "import seaborn as sns\n",
    "import matplotlib.pyplot as plot\n",
    "%matplotlib inline\n",
    "from sklearn import preprocessing\n",
    "\n",
    "# Load data\n",
    "passenger_df = pd.read_csv('../data/Titanic_Passengers.csv')\n",
    "\n",
    "passenger_df.head()"
   ]
  },
  {
   "cell_type": "code",
   "execution_count": 35,
   "metadata": {},
   "outputs": [
    {
     "name": "stdout",
     "output_type": "stream",
     "text": [
      "Lived_Died       died  lived\n",
      "Passenger_Class             \n",
      "1                 149    201\n",
      "2                 175    118\n",
      "3                 528    181\n",
      "Chi2-Stats (104.05195288933228, 2.543346399916496e-23, 2)\n"
     ]
    }
   ],
   "source": [
    "# Create a Bar Plot with the data Stacked\n",
    "passenger_df['Age_bins'] = pd.cut(x=passenger_df['Age'], bins=range(0, 90, 10))\n",
    "\n",
    "\n",
    "contingency_table = pd.crosstab(passenger_df['Passenger_Class'], passenger_df['Lived_Died'], margins=False)\n",
    "print(contingency_table)\n",
    "\n",
    "print(f'Chi2-Stats {stats.chi2_contingency(contingency_table)[0:3]}')\n"
   ]
  },
  {
   "cell_type": "code",
   "execution_count": 36,
   "metadata": {},
   "outputs": [
    {
     "data": {
      "text/plain": [
       "<Axes: xlabel='Passenger_Class'>"
      ]
     },
     "execution_count": 36,
     "metadata": {},
     "output_type": "execute_result"
    },
    {
     "data": {
      "image/png": "[encoded data removed]",
      "text/plain": [
       "<Figure size 640x480 with 1 Axes>"
      ]
     },
     "metadata": {},
     "output_type": "display_data"
    }
   ],
   "source": [
    "le = preprocessing.LabelEncoder()\n",
    "passenger_df['Lived_Died_int'] = le.fit_transform(passenger_df['Lived_Died'])\n",
    "\n",
    "pivot_table = pd.pivot_table(passenger_df, values='Lived_Died_int', index=['Gender'], columns=['Passenger_Class'])\n",
    "\n",
    "contingency_table = pd.crosstab(passenger_df['Passenger_Class'], passenger_df['Lived_Died'], margins=False)\n",
    "contingency_table.plot(kind='bar', stacked=True)"
   ]
  },
  {
   "cell_type": "code",
   "execution_count": 37,
   "metadata": {},
   "outputs": [
    {
     "data": {
      "text/plain": [
       "<Axes: xlabel='Lived_Died'>"
      ]
     },
     "execution_count": 37,
     "metadata": {},
     "output_type": "execute_result"
    },
    {
     "data": {
      "image/png": "[encoded data removed]",
      "text/plain": [
       "<Figure size 640x480 with 1 Axes>"
      ]
     },
     "metadata": {},
     "output_type": "display_data"
    }
   ],
   "source": [
    "contingency_table = pd.crosstab(passenger_df['Lived_Died'], passenger_df['Passenger_Class'], margins=False)\n",
    "contingency_table.plot(kind='bar', stacked=True)"
   ]
  },
  {
   "cell_type": "markdown",
   "metadata": {},
   "source": [
    "Which passenger class is responsible for the significant difference in survival rate?\n",
    "- Chi-Square test offers that at least `one` of the passenger class is different from what we would expect if the variables were independent\n",
    "- Since this is out first test, it is considered a `Priori Test`\n",
    "- To continue our analysis, we will run another test, a 'Post Hoc` test"
   ]
  },
  {
   "cell_type": "markdown",
   "metadata": {},
   "source": [
    "### Post-Hoc Test (Fisher's Exact Test)\n",
    "\n",
    "- Compare every passenger class to every other class to see if there is statistical significance between the two\n",
    "- We could apply a `Chi-Square` test for each of the three separate comparison, but our sample data is too small\n",
    "- In this case, `Fisher's Exact` Test is a better option"
   ]
  },
  {
   "cell_type": "code",
   "execution_count": 42,
   "metadata": {},
   "outputs": [
    {
     "data": {
      "text/html": [
       "<div>\n",
       "<style scoped>\n",
       "    .dataframe tbody tr th:only-of-type {\n",
       "        vertical-align: middle;\n",
       "    }\n",
       "\n",
       "    .dataframe tbody tr th {\n",
       "        vertical-align: top;\n",
       "    }\n",
       "\n",
       "    .dataframe thead th {\n",
       "        text-align: right;\n",
       "    }\n",
       "</style>\n",
       "<table border=\"1\" class=\"dataframe\">\n",
       "  <thead>\n",
       "    <tr style=\"text-align: right;\">\n",
       "      <th>Lived_Died</th>\n",
       "      <th>died</th>\n",
       "      <th>lived</th>\n",
       "    </tr>\n",
       "    <tr>\n",
       "      <th>Passenger_Class</th>\n",
       "      <th></th>\n",
       "      <th></th>\n",
       "    </tr>\n",
       "  </thead>\n",
       "  <tbody>\n",
       "    <tr>\n",
       "      <th>1</th>\n",
       "      <td>149</td>\n",
       "      <td>201</td>\n",
       "    </tr>\n",
       "    <tr>\n",
       "      <th>2</th>\n",
       "      <td>175</td>\n",
       "      <td>118</td>\n",
       "    </tr>\n",
       "    <tr>\n",
       "      <th>3</th>\n",
       "      <td>528</td>\n",
       "      <td>181</td>\n",
       "    </tr>\n",
       "  </tbody>\n",
       "</table>\n",
       "</div>"
      ],
      "text/plain": [
       "Lived_Died       died  lived\n",
       "Passenger_Class             \n",
       "1                 149    201\n",
       "2                 175    118\n",
       "3                 528    181"
      ]
     },
     "execution_count": 42,
     "metadata": {},
     "output_type": "execute_result"
    }
   ],
   "source": [
    "import pandas as pd\n",
    "import seaborn as sns\n",
    "import matplotlib.pyplot as plot\n",
    "%matplotlib inline\n",
    "from sklearn import preprocessing\n",
    "\n",
    "# Load data\n",
    "passenger_df = pd.read_csv('../data/Titanic_Passengers.csv')\n",
    "contingency_table = pd.crosstab(passenger_df['Passenger_Class'], passenger_df['Lived_Died'], margins=False)\n",
    "contingency_table"
   ]
  },
  {
   "cell_type": "code",
   "execution_count": 46,
   "metadata": {},
   "outputs": [
    {
     "name": "stdout",
     "output_type": "stream",
     "text": [
      "Fishers Exact Test for First and Third Class: 7.457205699022123e-24\n",
      "Fishers Exact Test for First and Second Class: 1.827149276703859e-05\n",
      "Fishers Exact Test for Second and Third Class: 1.827149276703859e-05\n"
     ]
    }
   ],
   "source": [
    "first_class = contingency_table.iloc[0].values # Extract row values \n",
    "second_class = contingency_table.iloc[1].values\n",
    "third_class = contingency_table.iloc[2].values\n",
    "\n",
    "# Create a Fisher's Exact test to determine if there is a relationship between passenger classes and survival\n",
    "oddsratio, pvalue = stats.fisher_exact([first_class, third_class])\n",
    "print(f'Fishers Exact Test for First and Third Class: {pvalue}')\n",
    "\n",
    "oddsratio, pvalue = stats.fisher_exact([first_class, second_class])\n",
    "print(f'Fishers Exact Test for First and Second Class: {pvalue}')\n",
    "\n",
    "oddsratio, pvalue = stats.fisher_exact([second_class, first_class])\n",
    "print(f'Fishers Exact Test for Second and Third Class: {pvalue}')"
   ]
  },
  {
   "cell_type": "markdown",
   "metadata": {},
   "source": [
    "Each of the Fisher's Tests reveals statistical significance\n",
    "\n",
    "Another way to conceptualize the results is to look at percentages:\n",
    "\n",
    "| Passenger Class    |  Died    |\n",
    "|--------------------|----------|\n",
    "| First Class        | 43% |\n",
    "| Second Class       | 60% |\n",
    "| Third Class        | 74% |\n",
    "\n",
    "TODO: Create a heatmap of Passenger Class split in Age_Ranges by Gender and survival rate\n"
   ]
  },
  {
   "cell_type": "markdown",
   "metadata": {},
   "source": [
    "### T-Test: Fare and Gender\n",
    "\n",
    "While the `Chi-Test` and 'Fisher-Test` focus on `categorical` discrete dependent variable, the `T-Test` and the `ANOVA` test target `continuous` data\n",
    "\n",
    "#### How was Fare (price of passage) Affected by Gender and Passenger Class?\n",
    "- Did one gender pay more than the other?\n",
    "- Is there a difference in fare between passenger classes?\n",
    "- Is there an interaction between gender and passenger class on the resulting fare?"
   ]
  },
  {
   "cell_type": "code",
   "execution_count": 48,
   "metadata": {},
   "outputs": [],
   "source": [
    "import pandas as pd\n",
    "import seaborn as sns\n",
    "import matplotlib.pyplot as plot\n",
    "%matplotlib inline\n",
    "from sklearn import preprocessing\n",
    "\n",
    "# Load data\n",
    "passenger_df = pd.read_csv('../data/Titanic_Passengers.csv')"
   ]
  },
  {
   "cell_type": "code",
   "execution_count": 51,
   "metadata": {},
   "outputs": [
    {
     "data": {
      "text/plain": [
       "Text(0.5, 1.0, 'Amount of fare paid based on gender')"
      ]
     },
     "execution_count": 51,
     "metadata": {},
     "output_type": "execute_result"
    },
    {
     "data": {
      "image/png": "[encoded data removed]",
      "text/plain": [
       "<Figure size 640x480 with 1 Axes>"
      ]
     },
     "metadata": {},
     "output_type": "display_data"
    }
   ],
   "source": [
    "# Visualize data using box plot\n",
    "sns.boxplot(y=passenger_df['Fare_decimal'], x=passenger_df['Gender'])\n",
    "plt.ylabel('Fare amount in Pounds')\n",
    "plt.title('Amount of Fare Paid Based on Gender')"
   ]
  },
  {
   "cell_type": "code",
   "execution_count": 52,
   "metadata": {},
   "outputs": [
    {
     "name": "stdout",
     "output_type": "stream",
     "text": [
      "Male Summary count    839.000000\n",
      "mean      26.226067\n",
      "std       42.514485\n",
      "min        1.000000\n",
      "25%        7.895000\n",
      "50%       12.350000\n",
      "75%       26.550000\n",
      "max      512.330000\n",
      "Name: Fare_decimal, dtype: float64\n"
     ]
    }
   ],
   "source": [
    "male = passenger_df[passenger_df['Gender'] == 'Male']\n",
    "print(f'Male Summary {male['Fare_decimal'].describe()}')"
   ]
  },
  {
   "cell_type": "code",
   "execution_count": 53,
   "metadata": {},
   "outputs": [
    {
     "name": "stdout",
     "output_type": "stream",
     "text": [
      "Female Summary count    482.000000\n",
      "mean      45.118299\n",
      "std       63.149875\n",
      "min        1.000000\n",
      "25%       10.460000\n",
      "50%       21.555000\n",
      "75%       54.525000\n",
      "max      512.330000\n",
      "Name: Fare_decimal, dtype: float64\n"
     ]
    }
   ],
   "source": [
    "female = passenger_df[passenger_df['Gender'] == 'Female']\n",
    "print(f'Female Summary {female['Fare_decimal'].describe()}')"
   ]
  },
  {
   "cell_type": "code",
   "execution_count": 55,
   "metadata": {},
   "outputs": [
    {
     "name": "stdout",
     "output_type": "stream",
     "text": [
      "T-Test for Fare Paid p-value 6.093364811911871e-13\n"
     ]
    }
   ],
   "source": [
    "from scipy.stats import ttest_ind\n",
    "\n",
    "passenger_df.dropna(inplace=True)\n",
    "male = passenger_df[passenger_df['Gender'] == 'Male']\n",
    "female = passenger_df[passenger_df['Gender'] == 'Female']\n",
    "# Run Test\n",
    "statistics, pvalue = ttest_ind(male['Fare_decimal'], female['Fare_decimal'])\n",
    "print(f'T-Test for Fare Paid p-value {pvalue}')"
   ]
  },
  {
   "cell_type": "markdown",
   "metadata": {},
   "source": [
    "- `T-Test` specializes in comparing two populations\n",
    "- ANOVA (Analysis of Variance) test will allow you to compare the influence of `three or more` populations\n",
    "\n",
    "Fair prices are `continuous numerical dependent variable`. They are affected by the three passenger classes.\n",
    "\n",
    "Install new package:\n",
    "\n",
    "conda install statsmodels"
   ]
  },
  {
   "cell_type": "code",
   "execution_count": 63,
   "metadata": {},
   "outputs": [],
   "source": [
    "import pandas as pd\n",
    "import matplotlib.pyplot as plt\n",
    "%matplotlib inline\n",
    "import seaborn as sns\n",
    "from statsmodels.formula.api import ols\n",
    "import statsmodels.api as sm"
   ]
  },
  {
   "cell_type": "code",
   "execution_count": 60,
   "metadata": {},
   "outputs": [],
   "source": [
    "# Load data\n",
    "passenger_df = pd.read_csv('../data/Titanic_Passengers.csv')"
   ]
  },
  {
   "cell_type": "code",
   "execution_count": 65,
   "metadata": {},
   "outputs": [
    {
     "data": {
      "text/html": [
       "<div>\n",
       "<style scoped>\n",
       "    .dataframe tbody tr th:only-of-type {\n",
       "        vertical-align: middle;\n",
       "    }\n",
       "\n",
       "    .dataframe tbody tr th {\n",
       "        vertical-align: top;\n",
       "    }\n",
       "\n",
       "    .dataframe thead th {\n",
       "        text-align: right;\n",
       "    }\n",
       "</style>\n",
       "<table border=\"1\" class=\"dataframe\">\n",
       "  <thead>\n",
       "    <tr style=\"text-align: right;\">\n",
       "      <th></th>\n",
       "      <th>df</th>\n",
       "      <th>sum_sq</th>\n",
       "      <th>mean_sq</th>\n",
       "      <th>F</th>\n",
       "      <th>PR(&gt;F)</th>\n",
       "    </tr>\n",
       "  </thead>\n",
       "  <tbody>\n",
       "    <tr>\n",
       "      <th>C(Passenger_Class)</th>\n",
       "      <td>2.0</td>\n",
       "      <td>1.201111e+06</td>\n",
       "      <td>600555.522821</td>\n",
       "      <td>338.116478</td>\n",
       "      <td>2.964452e-119</td>\n",
       "    </tr>\n",
       "    <tr>\n",
       "      <th>Residual</th>\n",
       "      <td>1318.0</td>\n",
       "      <td>2.341004e+06</td>\n",
       "      <td>1776.179397</td>\n",
       "      <td>NaN</td>\n",
       "      <td>NaN</td>\n",
       "    </tr>\n",
       "  </tbody>\n",
       "</table>\n",
       "</div>"
      ],
      "text/plain": [
       "                        df        sum_sq        mean_sq           F  \\\n",
       "C(Passenger_Class)     2.0  1.201111e+06  600555.522821  338.116478   \n",
       "Residual            1318.0  2.341004e+06    1776.179397         NaN   \n",
       "\n",
       "                           PR(>F)  \n",
       "C(Passenger_Class)  2.964452e-119  \n",
       "Residual                      NaN  "
      ]
     },
     "execution_count": 65,
     "metadata": {},
     "output_type": "execute_result"
    }
   ],
   "source": [
    "# Load your OLS (Ordinary Least Square) model\n",
    "model = ols('Fare_decimal ~ C(Passenger_Class)', data=passenger_df).fit()\n",
    "# ANOVA table\n",
    "anova_table = sm.stats.anova_lm(model, type=1) # type = # is the anova table format\n",
    "anova_table"
   ]
  },
  {
   "cell_type": "markdown",
   "metadata": {},
   "source": [
    "`PR (>F) is your P-value\n",
    "\n",
    "#### ANOVA Notation (R)-style Formulas):\n",
    "- The `~`char separates the left side from the right side\n",
    "- The `+` char adds a new separated column to the design matrix\n",
    "- The `:` char adds a new interaction column to the model matrix\n",
    "- The `*` char signifies both individual columns are combined\n",
    "\n",
    "The string `Fare_decimal ~ C(Passenger_Class)` translates to:\n",
    "- Fare decimal variable is affected by the categorical variable `(C)` Passenger_Class"
   ]
  },
  {
   "cell_type": "code",
   "execution_count": 66,
   "metadata": {},
   "outputs": [
    {
     "data": {
      "text/plain": [
       "Text(0.5, 1.0, 'Amount of Fare Paid Based on Passenger Class')"
      ]
     },
     "execution_count": 66,
     "metadata": {},
     "output_type": "execute_result"
    },
    {
     "data": {
      "image/png": "[encoded data removed]",
      "text/plain": [
       "<Figure size 640x480 with 1 Axes>"
      ]
     },
     "metadata": {},
     "output_type": "display_data"
    }
   ],
   "source": [
    "sns.boxplot(y=passenger_df['Fare_decimal'], x=passenger_df['Passenger_Class'])\n",
    "plt.ylabel('Fare amount in pounds')\n",
    "plt.title('Amount of Fare Paid Based on Passenger Class')"
   ]
  },
  {
   "cell_type": "markdown",
   "metadata": {},
   "source": [
    "Do a `post-hoc` test on this. FOr ANOVA we use the `Tukey HSD` test to compare each individual population from a statistically significant ANOVA."
   ]
  },
  {
   "cell_type": "code",
   "execution_count": 68,
   "metadata": {},
   "outputs": [],
   "source": [
    "import pandas as pd\n",
    "import matplotlib.pyplot as plt\n",
    "%matplotlib inline\n",
    "import seaborn as sns\n",
    "from statsmodels.stats.multicomp import MultiComparison\n",
    "from statsmodels.stats.multicomp import pairwise_tukeyhsd\n",
    "\n",
    "passenger_df = pd.read_csv('../data/Titanic_Passengers.csv')\n",
    "passenger_df.drop(columns=['Born', 'Died', 'Fare', 'Lived_Died', 'Name', 'Gender'], inplace=True) # Drop unused columns\n",
    "passenger_df.dropna(inplace=True) # Drop all NULLS\n"
   ]
  },
  {
   "cell_type": "code",
   "execution_count": 69,
   "metadata": {},
   "outputs": [
    {
     "data": {
      "text/html": [
       "<table class=\"simpletable\">\n",
       "<caption>Multiple Comparison of Means - Tukey HSD, FWER=0.05</caption>\n",
       "<tr>\n",
       "  <th>group1</th> <th>group2</th> <th>meandiff</th> <th>p-adj</th>   <th>lower</th>    <th>upper</th>  <th>reject</th>\n",
       "</tr>\n",
       "<tr>\n",
       "     <td>1</td>      <td>2</td>   <td>-64.5942</td>  <td>0.0</td>  <td>-72.6865</td> <td>-56.5018</td>  <td>True</td> \n",
       "</tr>\n",
       "<tr>\n",
       "     <td>1</td>      <td>3</td>   <td>-72.9052</td>  <td>0.0</td>  <td>-79.4909</td> <td>-66.3195</td>  <td>True</td> \n",
       "</tr>\n",
       "<tr>\n",
       "     <td>2</td>      <td>3</td>    <td>-8.311</td>  <td>0.016</td> <td>-15.3695</td>  <td>-1.2525</td>  <td>True</td> \n",
       "</tr>\n",
       "</table>"
      ],
      "text/latex": [
       "\\begin{center}\n",
       "\\begin{tabular}{ccccccc}\n",
       "\\toprule\n",
       "\\textbf{group1} & \\textbf{group2} & \\textbf{meandiff} & \\textbf{p-adj} & \\textbf{lower} & \\textbf{upper} & \\textbf{reject}  \\\\\n",
       "\\midrule\n",
       "       1        &        2        &      -64.5942     &      0.0       &    -72.6865    &    -56.5018    &       True       \\\\\n",
       "       1        &        3        &      -72.9052     &      0.0       &    -79.4909    &    -66.3195    &       True       \\\\\n",
       "       2        &        3        &       -8.311      &     0.016      &    -15.3695    &    -1.2525     &       True       \\\\\n",
       "\\bottomrule\n",
       "\\end{tabular}\n",
       "%\\caption{Multiple Comparison of Means - Tukey HSD, FWER=0.05}\n",
       "\\end{center}"
      ],
      "text/plain": [
       "<class 'statsmodels.iolib.table.SimpleTable'>"
      ]
     },
     "execution_count": 69,
     "metadata": {},
     "output_type": "execute_result"
    }
   ],
   "source": [
    "mc = MultiComparison(passenger_df['Fare_decimal'], passenger_df['Passenger_Class'])\n",
    "result = mc.tukeyhsd()\n",
    "result.summary()"
   ]
  },
  {
   "cell_type": "markdown",
   "metadata": {},
   "source": [
    "If no statistical significance is found, then the `reject` column will indicate `False`, that is, the `null-hypothesis` cannot be rejected."
   ]
  }
 ],
 "metadata": {
  "kernelspec": {
   "display_name": "module6",
   "language": "python",
   "name": "python3"
  },
  "language_info": {
   "codemirror_mode": {
    "name": "ipython",
    "version": 3
   },
   "file_extension": ".py",
   "mimetype": "text/x-python",
   "name": "python",
   "nbconvert_exporter": "python",
   "pygments_lexer": "ipython3",
   "version": "3.12.7"
  }
 },
 "nbformat": 4,
 "nbformat_minor": 2
}
